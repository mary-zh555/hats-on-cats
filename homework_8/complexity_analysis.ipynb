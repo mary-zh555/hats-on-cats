{
 "cells": [
  {
   "cell_type": "markdown",
   "metadata": {},
   "source": [
    "## Complexity Analysis"
   ]
  },
  {
   "cell_type": "markdown",
   "metadata": {},
   "source": [
    "cats = n\n",
    "rounds = m\n",
    "\n",
    "- 3 rounds: O(n) + O(n) + O(n) = O(n)\n",
    "- m rounds: O(m/3) * O(n) = O(m) * O(n) = O(m * n)\n",
    "\n",
    "Complexity: O(m*n)"
   ]
  }
 ],
 "metadata": {
  "language_info": {
   "name": "python"
  },
  "orig_nbformat": 4
 },
 "nbformat": 4,
 "nbformat_minor": 2
}
