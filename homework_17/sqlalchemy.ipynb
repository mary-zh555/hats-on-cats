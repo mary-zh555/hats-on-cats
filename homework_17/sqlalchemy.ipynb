{
 "cells": [
  {
   "cell_type": "markdown",
   "metadata": {},
   "source": [
    "# HW: DB in Python"
   ]
  },
  {
   "cell_type": "markdown",
   "metadata": {},
   "source": [
    "1. Create classes for tables Subject and Student"
   ]
  },
  {
   "cell_type": "markdown",
   "metadata": {},
   "source": [
    "> Add models for student, subject and student_subject from previous lessons in SQLAlchemy."
   ]
  },
  {
   "cell_type": "code",
   "execution_count": null,
   "metadata": {},
   "outputs": [],
   "source": [
    "from sqlalchemy.orm import declarative_base\n",
    "from sqlalchemy import Column, ForeignKey, Integer, String\n",
    "from sqlalchemy.orm import relationship\n",
    "\n",
    "Base = declarative_base()\n",
    "\n",
    "class Student(Base):\n",
    "    __tablename__ = 'student'\n",
    "\n",
    "    id = Column(Integer, primary_key=True)\n",
    "    name = Column(String)\n",
    "    age = Column(Integer)\n",
    "    subject_id = Column(Integer, ForeignKey('subject.id'))\n",
    "\n",
    "    # Define a relationship to the Subject table\n",
    "    subject = relationship('Subject', back_populates='students')\n",
    "\n",
    "    def __str__(self):\n",
    "        return f'This is {self.id} student {self.name}. Age: {self.age}. Subject_id: {self.subject_id}'\n",
    "\n",
    "    def __repr__(self):\n",
    "        return f'This is {self.id} student {self.name}. Age: {self.age}. Subject_id: {self.subject_id}'\n",
    "\n",
    "\n",
    "class Subject(Base):\n",
    "    __tablename__ = 'subject'\n",
    "\n",
    "    id = Column(Integer, primary_key=True)\n",
    "    subject_name = Column(String)\n",
    "\n",
    "    # Define a back reference to the Student table\n",
    "    students = relationship('Student', back_populates='subject')\n",
    "\n",
    "    def __str__(self):\n",
    "        return f'This is {self.subject_name} subject. Id: {self.id}'\n",
    "\n",
    "    def __repr__(self):\n",
    "        return f'This is {self.subject_name} subject. Id: {self.id}'"
   ]
  },
  {
   "cell_type": "markdown",
   "metadata": {},
   "source": [
    "2. Get keys for database from .env_example"
   ]
  },
  {
   "cell_type": "code",
   "execution_count": null,
   "metadata": {},
   "outputs": [],
   "source": [
    "from dotenv import load_dotenv\n",
    "import os\n",
    "\n",
    "load_dotenv(\".env.example\")\n",
    "\n",
    "PASSWORD = os.getenv(\"PASSWORD\", \" \")\n",
    "DATABASE = os.getenv(\"DATABASE\", \" \")\n",
    "USER =  os.getenv(\"USER\", \" \")\n",
    "\n",
    "print(PASSWORD, DATABASE, USER)"
   ]
  },
  {
   "cell_type": "markdown",
   "metadata": {},
   "source": [
    "3. Connect to the database"
   ]
  },
  {
   "cell_type": "code",
   "execution_count": null,
   "metadata": {},
   "outputs": [],
   "source": [
    "from sqlalchemy import create_engine\n",
    "\n",
    "DATABASE_URI = 'postgresql://{user}:{password}@{host}:{port}/{database}'\n",
    "\n",
    "engine = create_engine(\n",
    "    DATABASE_URI.format(\n",
    "        host='localhost',\n",
    "        database=DATABASE,\n",
    "        user=USER,\n",
    "        password=PASSWORD,\n",
    "        port=5432,\n",
    "    )\n",
    ")"
   ]
  },
  {
   "cell_type": "markdown",
   "metadata": {},
   "source": [
    "4. Start the session"
   ]
  },
  {
   "cell_type": "code",
   "execution_count": null,
   "metadata": {},
   "outputs": [],
   "source": [
    "from sqlalchemy.orm import sessionmaker\n",
    "\n",
    "Base.metadata.create_all(engine)\n",
    "\n",
    "Session = sessionmaker(bind=engine)\n",
    "\n",
    "session = Session()"
   ]
  },
  {
   "cell_type": "markdown",
   "metadata": {},
   "source": [
    "5. Insert the values"
   ]
  },
  {
   "cell_type": "code",
   "execution_count": null,
   "metadata": {},
   "outputs": [],
   "source": [
    "# Insert values into the table Subject\n",
    "subject_names = ['English', 'Spanish', 'Chinese', 'Math', 'History', 'Science']\n",
    "\n",
    "for sub_name in subject_names:\n",
    "    subject = Subject(subject_name=sub_name)\n",
    "    session.add(subject)\n",
    "\n",
    "session.commit()"
   ]
  },
  {
   "cell_type": "code",
   "execution_count": null,
   "metadata": {},
   "outputs": [],
   "source": [
    "session.query(Subject).all()"
   ]
  },
  {
   "cell_type": "code",
   "execution_count": null,
   "metadata": {},
   "outputs": [],
   "source": [
    "# Insert values into the table Student\n",
    "from random import randint, choice\n",
    "\n",
    "random_names = ['Joe', 'Winston', 'Benedict', 'Andrea', 'Fillipe', 'Iria', 'Eric', 'Joan', 'Pablo', 'Brian', 'Timothy', 'Lee']\n",
    "\n",
    "for _ in range(10):\n",
    "    student = Student(name=choice(random_names), age=randint(18, 25), subject_id=randint(1,6))\n",
    "    session.add(student)\n",
    "\n",
    "session.commit()"
   ]
  },
  {
   "cell_type": "code",
   "execution_count": null,
   "metadata": {},
   "outputs": [],
   "source": [
    "session.query(Student).all()"
   ]
  },
  {
   "cell_type": "markdown",
   "metadata": {},
   "source": [
    "6. Join tables Student and Subject into the student_subject table. Add it to the database"
   ]
  },
  {
   "cell_type": "code",
   "execution_count": null,
   "metadata": {},
   "outputs": [],
   "source": [
    "# joining tables Student and Subject\n",
    "\n",
    "result = session.query(Student, Subject).join(Subject).all()\n",
    "\n",
    "for student, subject in result:\n",
    "    print(student.id, student.name, student.age, subject.id, subject.subject_name)"
   ]
  },
  {
   "cell_type": "code",
   "execution_count": null,
   "metadata": {},
   "outputs": [],
   "source": [
    "# Trying to populate the table StudentSubject from the join result query -- unsuccessful\n",
    "\n",
    "class StudentSubjects(Base):\n",
    "    __tablename__ = 'student_subjects'\n",
    "\n",
    "    id = Column(Integer, primary_key=True)\n",
    "    student_id = Column(Integer, ForeignKey('student.id'))\n",
    "    student_name = Column(Integer, ForeignKey('student.name'))\n",
    "    student_age = Column(Integer, ForeignKey('student.age'))\n",
    "    subject_name = Column(Integer, ForeignKey('subject.subject_name'))\n",
    "\n",
    "    student = relationship('Student', foreign_keys=[student_id])\n",
    "    subject = relationship('Subject', foreign_keys=[subject_name])\n",
    "\n",
    "\n",
    "for student, subject in result:\n",
    "    student_subject_obj = StudentSubjects(student_id=student.id, student_name=student.name, student_age=student.age, subject_name=subject.subject_name)\n",
    "    session.add(student_subject_obj)\n",
    "\n",
    "session.query(StudentSubjects).all()\n",
    "\n",
    "# session.commit()"
   ]
  },
  {
   "cell_type": "markdown",
   "metadata": {},
   "source": [
    "> Find all students` name that visited 'English' classes."
   ]
  },
  {
   "cell_type": "code",
   "execution_count": null,
   "metadata": {},
   "outputs": [],
   "source": [
    "session.query(Student).filter(Student.subject_id == '1').all()"
   ]
  }
 ],
 "metadata": {
  "kernelspec": {
   "display_name": "Python 3",
   "language": "python",
   "name": "python3"
  },
  "language_info": {
   "codemirror_mode": {
    "name": "ipython",
    "version": 3
   },
   "file_extension": ".py",
   "mimetype": "text/x-python",
   "name": "python",
   "nbconvert_exporter": "python",
   "pygments_lexer": "ipython3",
   "version": "3.11.3"
  },
  "orig_nbformat": 4
 },
 "nbformat": 4,
 "nbformat_minor": 2
}
