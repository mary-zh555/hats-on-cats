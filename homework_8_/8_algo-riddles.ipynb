{
 "cells": [
  {
   "cell_type": "markdown",
   "metadata": {},
   "source": [
    "# You have 100 cats.\n",
    "\n",
    "One day you decide to arrange all your cats in a giant circle. Initially, none of your cats have any hats on. You walk around the circle 100 times, always starting at the same spot, with the first cat (cat # 1). Every time you stop at a cat, you either put a hat on it if it doesn’t have one on, or you take its hat off if it has one on.\n",
    "\n",
    "In The first round, you stop at every cat, placing a hat on each one.\n",
    "In The second round, you only stop at every second cat (#2, #4, #6, #8, etc.).\n",
    "In The third round, you only stop at every third cat(#3, #6, #9, #12, etc.).\n",
    "You continue this process until you’ve made 100 rounds around the cats (e.g., you only visit the 100th cat).\n",
    "\n",
    "\n",
    "Write a program that simply outputs which cats have hats at the end.\n",
    "\n",
    "Optional: Make a function that can calculate hats with any amount of rounds and cats.\n",
    "\n",
    "Here you should write an algorithm, and after that, try to make pseudo code. Only after that start to work. The code is simple here, but you might struggle with the algorithm. Therefore don`t try to write a code from the first attempt. Don't forget to calculate the complexity of your algorithm.\n"
   ]
  },
  {
   "cell_type": "markdown",
   "metadata": {},
   "source": [
    "Function that can calculate hats with any amount of rounds and cats"
   ]
  },
  {
   "cell_type": "code",
   "execution_count": 1,
   "metadata": {},
   "outputs": [
    {
     "name": "stdout",
     "output_type": "stream",
     "text": [
      "[{'cat_index': 1, 'hat_on': False}, {'cat_index': 2, 'hat_on': False}, {'cat_index': 3, 'hat_on': True}, {'cat_index': 4, 'hat_on': False}, {'cat_index': 5, 'hat_on': False}]\n",
      "Number of cats with hats on: [3]\n"
     ]
    }
   ],
   "source": [
    "def hats_on_cats(rounds: int, num_of_cats: int) -> None:\n",
    "    cats: list[dict] = [{\"cat_index\": i, \"hat_on\": False} for i in range(1, num_of_cats+1)]\n",
    "\n",
    "    while rounds:\n",
    "        # Round 1 (stop at every cat)\n",
    "        if rounds:\n",
    "            for cat in cats:\n",
    "                cat[\"hat_on\"] = (False if cat[\"hat_on\"] else True)\n",
    "            rounds -=1\n",
    "        else:\n",
    "            break\n",
    "\n",
    "        # Round 2 (stop at every second cat)\n",
    "        if rounds:\n",
    "            for cat in cats:\n",
    "                if cat[\"cat_index\"] % 2 == 0:\n",
    "                    cat[\"hat_on\"] = (False if cat[\"hat_on\"] else True)\n",
    "            rounds -=1\n",
    "        else:\n",
    "            break\n",
    "\n",
    "        # Round 3 (stop at every third cat)\n",
    "        if rounds:\n",
    "            for cat in cats:\n",
    "                if cat[\"cat_index\"] % 3 == 0:\n",
    "                    cat[\"hat_on\"] = (False if cat[\"hat_on\"] else True)\n",
    "            rounds -=1\n",
    "        else:\n",
    "            break\n",
    "\n",
    "    res:list = []\n",
    "    for cat in cats:\n",
    "        if cat[\"hat_on\"]:\n",
    "            res.append(cat[\"cat_index\"])\n",
    "\n",
    "    print(cats)\n",
    "    print(f\"Number of cats with hats on: {res}\")\n",
    "\n",
    "\n",
    "hats_on_cats(5, 5)"
   ]
  },
  {
   "cell_type": "markdown",
   "metadata": {},
   "source": [
    "O-notation analysis:\n",
    "\n",
    "1. cats list comprehensions: O(n), n = num_of_cats\n",
    "2. while loop:\n",
    "    - round 1. iterates over all the cats: O(n), n = num_of_cats\n",
    "    - round 2. iterates over all the cats: O(n), n = num_of_cats\n",
    "    - round 3:. iterates over all the cats: O(n), n = num_of_cats\n",
    "    O(n) + O(n) + O(n) = O(n)\n",
    "3. res list. iterates over all the cats: O(n), n = num_of_cats\n",
    "\n",
    "Complexity: O(n)"
   ]
  }
 ],
 "metadata": {
  "kernelspec": {
   "display_name": "Python 3",
   "language": "python",
   "name": "python3"
  },
  "language_info": {
   "codemirror_mode": {
    "name": "ipython",
    "version": 3
   },
   "file_extension": ".py",
   "mimetype": "text/x-python",
   "name": "python",
   "nbconvert_exporter": "python",
   "pygments_lexer": "ipython3",
   "version": "3.11.3"
  },
  "orig_nbformat": 4
 },
 "nbformat": 4,
 "nbformat_minor": 2
}
