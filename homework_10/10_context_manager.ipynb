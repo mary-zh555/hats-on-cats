{
 "cells": [
  {
   "cell_type": "markdown",
   "metadata": {},
   "source": [
    "1. Write a program that generates 26 text files named A.txt, B.txt, and so on up to Z.txt. To each file append a random number between 1 and 100. Create a summary file (summary.txt) that contains the name of the file and number in that file:\n",
    "A.txt: 67 B.txt: 12...Z.txt: 98"
   ]
  },
  {
   "cell_type": "code",
   "execution_count": 1,
   "metadata": {},
   "outputs": [],
   "source": [
    "from string import ascii_uppercase\n",
    "import random\n",
    "\n",
    "with open(\"task_1/summary.txt\", \"w\") as summary:\n",
    "    for letter in ascii_uppercase:\n",
    "        with open(f\"task_1/{letter}.txt\", \"w\") as file:\n",
    "            file.write(str(random.randint(1, 100)))\n",
    "            file.close()\n",
    "            with open(f\"task_1/{letter}.txt\", \"r\") as file:\n",
    "                summary.write(f\"{file.name}: {file.readline()}\\n\")"
   ]
  },
  {
   "cell_type": "markdown",
   "metadata": {},
   "source": [
    "2. Create a file with some content. As example, you can take this one: “Lorem ipsum dolor sit amet, consectetur adipiscing elit, sed do eiusmod tempor incididunt ut labore et dolore magna aliqua. Ut enim ad minim veniam, quis nostrud exercitation ullamco laboris nisi ut aliquip ex ea commodo consequat. Duis aute irure dolor in reprehenderit in voluptate velit esse cillum dolore eu fugiat nulla pariatur. Excepteur sint occaecat cupidatat non proident, sunt in culpa qui officia deserunt mollit anim id est laborum”.\n",
    "\n",
    "    Create a second file and copy the content of the first file to the second file in upper case."
   ]
  },
  {
   "cell_type": "code",
   "execution_count": 32,
   "metadata": {},
   "outputs": [],
   "source": [
    "with open(\"task_2/file_1.txt\", \"w\") as file_1:\n",
    "    file_1.write(\n",
    "        \"Lorem ipsum dolor sit amet, consectetur adipiscing elit, sed do eiusmod tempor incididunt ut labore et dolore magna aliqua. Ut enim ad minim veniam, quis nostrud exercitation ullamco laboris nisi ut aliquip ex ea commodo consequat. Duis aute irure dolor in reprehenderit in voluptate velit esse cillum dolore eu fugiat nulla pariatur. Excepteur sint occaecat cupidatat non proident, sunt in culpa qui officia deserunt mollit anim id est laborum\"\n",
    "    )\n",
    "\n",
    "with open(\"task_2/file_2.txt\", \"w\") as file_2:\n",
    "    with open(\"task_2/file_1.txt\", \"r\") as file_1:\n",
    "        file_2.write(f\"{file_1.readline().upper()}\")"
   ]
  },
  {
   "cell_type": "markdown",
   "metadata": {},
   "source": [
    "3. Write a program that will simulate user scores in a game. Create a list with 5 players’ names. After that, simulate 100 rounds for each player. As a result of the game, create a list with the player's name and score (0-1000 range). And save it to a CSV file.\n",
    "\n",
    "    The file should look like this:\n",
    "\n",
    "    Player name, Score\n",
    "\n",
    "    Josh, 56\n",
    "\n",
    "    Luke, 784\n",
    "\n",
    "    Kate, 90\n",
    "\n",
    "    Mark, 125\n",
    "\n",
    "    Mary, 877\n",
    "\n",
    "    Josh, 345\n",
    "    ...\n",
    "    "
   ]
  },
  {
   "cell_type": "code",
   "execution_count": 2,
   "metadata": {},
   "outputs": [],
   "source": [
    "import random\n",
    "import csv\n",
    "\n",
    "rounds: int = 100\n",
    "players: list = [\"Josh\", \"Luke\", \"Kate\", \"Mark\", \"Mary\"]\n",
    "\n",
    "\n",
    "def give_random_score(player: str) -> dict:\n",
    "    score: int = random.randint(1, 1000)\n",
    "    return {\"Player name\": player, \"Score\": score}\n",
    "\n",
    "\n",
    "with open(\"task_3_4/scores.csv\", \"w\") as scores_data:\n",
    "    fieldnames: list = [\"Player name\", \"Score\"]\n",
    "    writer = csv.DictWriter(scores_data, fieldnames=fieldnames)\n",
    "    writer.writeheader()\n",
    "    for i in range(rounds):\n",
    "        for player in players:\n",
    "            writer.writerow(give_random_score(player))"
   ]
  },
  {
   "cell_type": "markdown",
   "metadata": {},
   "source": [
    "4. Write a script that reads the data from the previous CSV file and creates a new file called high_scores.csv where each row contains the player name and their highest score. The final score should be sorted by descending to the highest score.\n",
    "\n",
    "    The output CSV file should look like this:\n",
    "\n",
    "    Player name, Highest score\n",
    "\n",
    "    Kate, 907\n",
    "\n",
    "    Mary, 897\n",
    "\n",
    "    Luke, 784\n",
    "\n",
    "    Mark, 725\n",
    "    \n",
    "    Josh, 345"
   ]
  },
  {
   "cell_type": "code",
   "execution_count": 3,
   "metadata": {},
   "outputs": [],
   "source": [
    "# Context manager (result file: high_scores_cm.csv)\n",
    "from operator import itemgetter\n",
    "\n",
    "\n",
    "def get_highest(player) -> dict:\n",
    "    with open(\"task_3_4/scores.csv\", \"r\") as file:\n",
    "        reader = csv.DictReader(file)\n",
    "        my_list: list = [int(row[\"Score\"]) for row in reader if row[\"Player name\"] == player]\n",
    "    max_score = max(my_list)\n",
    "    return {\"Player name\": player, \"Highest score\": max_score}\n",
    "\n",
    "\n",
    "def sort_dict() -> list:\n",
    "    my_list: list = [get_highest(player) for player in players]\n",
    "    my_list.sort(key=itemgetter(\"Highest score\"), reverse=True)\n",
    "    return my_list\n",
    "\n",
    "\n",
    "with open(\"task_3_4/high_scores_cm.csv\", \"w\") as high:\n",
    "    fieldnames: list = [\"Player name\", \"Highest score\"]\n",
    "    writer = csv.DictWriter(high, fieldnames=fieldnames)\n",
    "    writer.writeheader()\n",
    "    writer.writerows(sort_dict())"
   ]
  },
  {
   "cell_type": "code",
   "execution_count": 4,
   "metadata": {},
   "outputs": [],
   "source": [
    "# Pandas (result file: high_scores_pd.csv)\n",
    "from operator import itemgetter\n",
    "import pandas as pd\n",
    "\n",
    "scores_path = \"task_3_4/scores.csv\"\n",
    "scores_data = pd.read_csv(scores_path)\n",
    "\n",
    "\n",
    "def return_highest_score(player)->list:\n",
    "    highest_score:int = (scores_data[scores_data[\"Player name\"] == player])[\"Score\"].max()\n",
    "    return [player, highest_score]\n",
    "\n",
    "\n",
    "def return_sorted_list()->list:\n",
    "    my_list:list = [return_highest_score(player) for player in players]\n",
    "    my_list.sort(key=itemgetter(1), reverse=True)\n",
    "    return my_list\n",
    "\n",
    "\n",
    "df = pd.DataFrame(return_sorted_list(), columns=[\"Player name\", \"Highest score\"])\n",
    "df.to_csv(\"task_3_4/high_scores_pd.csv\", index=False)"
   ]
  }
 ],
 "metadata": {
  "kernelspec": {
   "display_name": "Python 3",
   "language": "python",
   "name": "python3"
  },
  "language_info": {
   "codemirror_mode": {
    "name": "ipython",
    "version": 3
   },
   "file_extension": ".py",
   "mimetype": "text/x-python",
   "name": "python",
   "nbconvert_exporter": "python",
   "pygments_lexer": "ipython3",
   "version": "3.11.3"
  },
  "orig_nbformat": 4
 },
 "nbformat": 4,
 "nbformat_minor": 2
}
